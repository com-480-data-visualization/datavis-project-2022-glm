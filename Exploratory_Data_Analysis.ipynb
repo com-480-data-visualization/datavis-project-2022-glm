{
 "cells": [
  {
   "cell_type": "markdown",
   "id": "3a8e1b68",
   "metadata": {},
   "source": [
    "# Exploratory Data Analysis"
   ]
  },
  {
   "cell_type": "code",
   "execution_count": null,
   "id": "d37b7e49",
   "metadata": {},
   "outputs": [],
   "source": [
    "import pandas as pd\n",
    "import matplotlib.pyplot as plt\n",
    "import plotly.express as px"
   ]
  },
  {
   "cell_type": "code",
   "execution_count": null,
   "id": "95d5d3fc",
   "metadata": {},
   "outputs": [],
   "source": [
    "wec = pd.read_csv('World Energy Consumption.csv')\n",
    "lon_lat = pd.read_csv('world_country_latitude_and_longitude_values.csv')[['latitude', 'longitude', 'country']]"
   ]
  },
  {
   "cell_type": "code",
   "execution_count": null,
   "id": "bac9c99d",
   "metadata": {},
   "outputs": [],
   "source": [
    "lon_lat = lon_lat.replace('Congo [DRC]', 'Democratic Republic of Congo')\n",
    "lon_lat = lon_lat.replace('Congo [Republic]', 'Congo')"
   ]
  },
  {
   "cell_type": "code",
   "execution_count": null,
   "id": "0af85ed2",
   "metadata": {},
   "outputs": [],
   "source": [
    "#join the 2 dataframes on country\n",
    "wec = wec.merge(lon_lat)"
   ]
  },
  {
   "cell_type": "code",
   "execution_count": null,
   "id": "4385fa0e",
   "metadata": {},
   "outputs": [],
   "source": [
    "columns_electricity = ['hydro_electricity', 'solar_electricity', 'wind_electricity',\n",
    "                       'renewables_electricity']                    \n",
    "columns_renewables = ['renewables_consumption', 'hydro_consumption', 'solar_consumption', 'wind_consumption']\n",
    "column_info = ['iso_code', 'country', 'year', 'latitude', 'longitude', 'gdp', 'population']\n",
    "wec_all = wec[column_info + columns_electricity + columns_renewables]"
   ]
  },
  {
   "cell_type": "code",
   "execution_count": null,
   "id": "44aecd5b",
   "metadata": {},
   "outputs": [],
   "source": [
    "wec_all"
   ]
  },
  {
   "cell_type": "code",
   "execution_count": null,
   "id": "e0bddbbc",
   "metadata": {},
   "outputs": [],
   "source": [
    "#number of countries\n",
    "len(wec_all.country.unique())"
   ]
  },
  {
   "cell_type": "code",
   "execution_count": null,
   "id": "62475dc2",
   "metadata": {},
   "outputs": [],
   "source": [
    "wec_all.isna().sum()"
   ]
  },
  {
   "cell_type": "markdown",
   "id": "873aea09",
   "metadata": {},
   "source": [
    "Naturally, data may not available for all of the 204 countries present in the dataset, so let's see what are the countries for which data is available. We will split the analysis in two: data related to electricity and data related to consumption."
   ]
  },
  {
   "cell_type": "code",
   "execution_count": null,
   "id": "18fb6d33",
   "metadata": {
    "scrolled": true
   },
   "outputs": [],
   "source": [
    "wec_consumption = wec[column_info + columns_renewables]\n",
    "#drop rows with NaNs\n",
    "wec_consumption = wec_consumption.dropna(subset=columns_renewables)\n",
    "#nr of countries\n",
    "len(wec_consumption.country.unique())"
   ]
  },
  {
   "cell_type": "markdown",
   "id": "9cfa8162",
   "metadata": {},
   "source": [
    "Let's see which are these countries."
   ]
  },
  {
   "cell_type": "code",
   "execution_count": null,
   "id": "23e2bd62",
   "metadata": {},
   "outputs": [],
   "source": [
    "#visualize the countries\n",
    "fig = px.scatter_mapbox(wec_consumption, lat=\"latitude\", lon=\"longitude\", hover_name=\"country\", zoom=0)\n",
    "fig.update_layout(mapbox_style=\"open-street-map\")\n",
    "fig.show()"
   ]
  },
  {
   "cell_type": "code",
   "execution_count": null,
   "id": "b0fdde11",
   "metadata": {},
   "outputs": [],
   "source": [
    "wec_electricity = wec[column_info + columns_electricity]\n",
    "#drop rows with NaNs\n",
    "wec_electricity = wec_electricity.dropna(subset=columns_electricity)\n",
    "#nr of countries\n",
    "len(wec_electricity.country.unique())"
   ]
  },
  {
   "cell_type": "markdown",
   "id": "b0c43145",
   "metadata": {},
   "source": [
    "Electricity related data is available for most of the countries, but probably the time span is small (data is only available for a few years). Let's verify this."
   ]
  },
  {
   "cell_type": "code",
   "execution_count": null,
   "id": "b9be6425",
   "metadata": {},
   "outputs": [],
   "source": [
    "country_years_count = wec_electricity.groupby('country').year.count().reset_index(name='years_count')\n",
    "country_years_count"
   ]
  },
  {
   "cell_type": "code",
   "execution_count": null,
   "id": "06acaab5",
   "metadata": {},
   "outputs": [],
   "source": [
    "#years available and number of countries\n",
    "country_years_count.years_count.value_counts()"
   ]
  },
  {
   "cell_type": "markdown",
   "id": "cfbfa9f5",
   "metadata": {},
   "source": [
    "The hypothesis is therefore true, most of the countries (115/202) have 20 years of electricity data available, which should suffice for our analysis. "
   ]
  }
 ],
 "metadata": {
  "kernelspec": {
   "display_name": "Python 3 (ipykernel)",
   "language": "python",
   "name": "python3"
  },
  "language_info": {
   "codemirror_mode": {
    "name": "ipython",
    "version": 3
   },
   "file_extension": ".py",
   "mimetype": "text/x-python",
   "name": "python",
   "nbconvert_exporter": "python",
   "pygments_lexer": "ipython3",
   "version": "3.9.0"
  }
 },
 "nbformat": 4,
 "nbformat_minor": 5
}
