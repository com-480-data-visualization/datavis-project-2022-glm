{
 "cells": [
  {
   "cell_type": "markdown",
   "id": "f00dcc16",
   "metadata": {},
   "source": [
    "# 💧☀️💨IT'S GETTING GREENER💨☀️💧"
   ]
  },
  {
   "cell_type": "markdown",
   "id": "1d644662",
   "metadata": {},
   "source": [
    "# Dataset(s)"
   ]
  },
  {
   "cell_type": "markdown",
   "id": "eb4f9d23",
   "metadata": {},
   "source": [
    "This project will be based on worldwide energy data that can be found on [Kaggle](https://www.kaggle.com/datasets/pralabhpoudel/world-energy-consumption). Also, it will be completed by a [second dataset](https://github.com/albertyw/avenews/blob/master/old/data/average-latitude-longitude-countries.csv) that contains the longitude and latitude of every country as this may be useful for creating map visualizations. We will therefore work with a time series dataset, that contains information about energy generation and consumption from 1900 to 2020 for every country. Additional data compirses the `population`, `gdp` .\n",
    "\n",
    "In total, there are 120 columns, but we will extract only the relevant ones, based on the different topics that will be addressed. For example, we are going to use the data on consumption and electricity for different sources of energy, and in particular we will focus more on renewables."
   ]
  },
  {
   "cell_type": "markdown",
   "id": "fad19d01",
   "metadata": {},
   "source": [
    "# Problematic"
   ]
  },
  {
   "cell_type": "markdown",
   "id": "6d07ee2f",
   "metadata": {},
   "source": [
    "The goal of our visualisation is to discuss if the energy transition is on its way to becoming *clean* and therefore to reduce the amount of carbon emissions. We would like to show the reader the global renewable energy growth that has been happening during the past few decades on an animated map, but also show him/her country-wise details on demand. Furthermore, it would be interesting to get an insight about the pioneers in this clean energy revolution by looking at the green electricity generation during all these years. \n",
    "\n",
    "The target audience is everyone interested in energy generation and consumption, especially those keen on *renewable* power."
   ]
  },
  {
   "cell_type": "markdown",
   "id": "e4139c0e",
   "metadata": {},
   "source": [
    "# Exploratory Data Analysis"
   ]
  },
  {
   "cell_type": "markdown",
   "id": "912f2673",
   "metadata": {},
   "source": [
    "The exploratory data analysis was done using the pandas python library and can be found in [this](https://github.com/com-480-data-visualization/datavis-project-2022-glm/blob/main/Exploratory_Data_Analysis.ipynb) jupyter notebook."
   ]
  },
  {
   "cell_type": "markdown",
   "id": "0092a82e",
   "metadata": {},
   "source": [
    "In total, there are 204 countries in the dataset, but data we are interested in is not available for each of them (see number of NaNs for each column below).\n",
    "\n",
    "| Column_name            | Nr_NaNs |\n",
    "|------------------------|---------|\n",
    "| hydro_electricity      | 9642    |\n",
    "| solar_electricity      | 9642    |\n",
    "| wind_electricity       | 9642    |\n",
    "| biofuel_electricity    | 10787   |       \n",
    "| renewables_electricity | 9642    |\n",
    "| renewables_consumption | 10909   |\n",
    "| hydro_consumption      | 10909   |\n",
    "| solar_consumption      | 10909   |\n",
    "| wind_consumption       | 10909   |\n",
    "| biofuel_consumption    | 9697    |\n",
    "\n",
    "In the notebook, we have found that data related to *electricity* is available for 77 countries plotted as dots on the map below. It can be noticed that data is missing for most of the countries in Africa as well as most of the islands. This should suffice for our visualisations as we are planning to include only the top pioneers and these countries are likely to be situated in Europe/Americas."
   ]
  },
  {
   "cell_type": "markdown",
   "id": "a37437f3",
   "metadata": {},
   "source": [
    "![Data plot](dataplot.png)"
   ]
  },
  {
   "cell_type": "markdown",
   "id": "219d9f61",
   "metadata": {},
   "source": [
    "As for the *consumption* data, only 2 countries do not have any entries. The missing entries are due to the fact that most of the countires only have 20 out of 121 years of *consumption* data available."
   ]
  },
  {
   "cell_type": "markdown",
   "id": "ee749171",
   "metadata": {},
   "source": [
    "# Related Work"
   ]
  },
  {
   "cell_type": "markdown",
   "id": "46a7a2e0",
   "metadata": {},
   "source": [
    "Delete this cell once this section is finished\n",
    "-  What others have already done with the data?\n",
    "-  Why is your approach original?\n",
    "-  What source of inspiration do you take? Visualizations that you found on other websites or magazines (might be unrelated to your data)."
   ]
  },
  {
   "cell_type": "markdown",
   "id": "f1719426",
   "metadata": {},
   "source": [
    "There are two notebooks attached to this dataset on Kaggle: \n",
    "https://www.kaggle.com/datasets/pralabhpoudel/world-energy-consumption/code\n",
    "\n",
    "The two notebooks show some basic results from the dataset. Our idea is to create a more detailed and interactive visualization of the data, and also to show the evolution up to today.\n",
    "\n",
    "There are a lot of statistics on the energy consumption by country but we would like to show the evolution as we have data over 20 years.\n",
    "\n"
   ]
  }
 ],
 "metadata": {
  "kernelspec": {
   "display_name": "Python 3 (ipykernel)",
   "language": "python",
   "name": "python3"
  },
  "language_info": {
   "codemirror_mode": {
    "name": "ipython",
    "version": 3
   },
   "file_extension": ".py",
   "mimetype": "text/x-python",
   "name": "python",
   "nbconvert_exporter": "python",
   "pygments_lexer": "ipython3",
   "version": "3.8.12"
  }
 },
 "nbformat": 4,
 "nbformat_minor": 5
}
